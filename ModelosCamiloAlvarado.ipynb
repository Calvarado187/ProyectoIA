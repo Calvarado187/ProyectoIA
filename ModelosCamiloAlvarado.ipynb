{
  "nbformat": 4,
  "nbformat_minor": 0,
  "metadata": {
    "colab": {
      "provenance": []
    },
    "kernelspec": {
      "name": "python3",
      "display_name": "Python 3"
    },
    "language_info": {
      "name": "python"
    }
  },
  "cells": [
    {
      "cell_type": "code",
      "source": [
        "import pandas as pd\n",
        "\n",
        "# Cargar los CSV correctamente desde la línea 9\n",
        "pm10 = pd.read_csv(\"PM10_CLUB_UNION.csv\", sep=\";\", skiprows=8)[['Fecha inicial', 'PM10']].rename(columns={'Fecha inicial': 'Fecha'})\n",
        "pm25 = pd.read_csv(\"PM2.5_CLUB_UNION.csv\", sep=\";\", skiprows=8)[['Fecha inicial', 'PM2.5']].rename(columns={'Fecha inicial': 'Fecha'})\n",
        "so2 = pd.read_csv(\"SO2_CLUB_UNION.csv\", sep=\";\", skiprows=8)[['Fecha inicial', 'SO2']].rename(columns={'Fecha inicial': 'Fecha'})\n",
        "no2 = pd.read_csv(\"NO2_CLUB_UNION.csv\", sep=\";\", skiprows=8)[['Fecha inicial', 'NO2']].rename(columns={'Fecha inicial': 'Fecha'})\n",
        "o3  = pd.read_csv(\"O3_CLUB_UNION.csv\",  sep=\";\", skiprows=8)[['Fecha inicial', 'O3']].rename(columns={'Fecha inicial': 'Fecha'})\n",
        "\n",
        "# Unificar y limpiar\n",
        "df = pm10.merge(pm25, on=\"Fecha\").merge(so2, on=\"Fecha\").merge(no2, on=\"Fecha\").merge(o3, on=\"Fecha\")\n",
        "df['Fecha'] = pd.to_datetime(df['Fecha'], errors='coerce')\n",
        "df_clean = df.dropna().sort_values(by='Fecha')\n",
        "\n",
        "# Crear variable objetivo\n",
        "def clasificar_ica(valor):\n",
        "    if valor <= 50:\n",
        "        return \"Buena\"\n",
        "    elif valor <= 100:\n",
        "        return \"Moderada\"\n",
        "    else:\n",
        "        return \"Mala\"\n",
        "\n",
        "df_clean['ICA_categoria'] = df_clean['PM10'].apply(clasificar_ica)\n"
      ],
      "metadata": {
        "id": "tWxehNjM5Tb_"
      },
      "execution_count": null,
      "outputs": []
    },
    {
      "cell_type": "code",
      "execution_count": null,
      "metadata": {
        "colab": {
          "base_uri": "https://localhost:8080/"
        },
        "id": "XBPJ22J-4m6h",
        "outputId": "0116dfc2-d3e7-47c2-ea2d-aae59c551b3b"
      },
      "outputs": [
        {
          "output_type": "stream",
          "name": "stdout",
          "text": [
            "Modelo: Random Forest\n",
            "Accuracy: 1.00\n",
            "Matriz de Confusión:\n",
            "[[164]]\n",
            "------------------------------\n",
            "Modelo: Naive Bayes\n",
            "Accuracy: 1.00\n",
            "Matriz de Confusión:\n",
            "[[164]]\n",
            "------------------------------\n",
            "Modelo: Regresión Logística\n",
            "Accuracy: 1.00\n",
            "Matriz de Confusión:\n",
            "[[164]]\n",
            "------------------------------\n"
          ]
        },
        {
          "output_type": "stream",
          "name": "stderr",
          "text": [
            "/usr/local/lib/python3.11/dist-packages/sklearn/metrics/_classification.py:407: UserWarning: A single label was found in 'y_true' and 'y_pred'. For the confusion matrix to have the correct shape, use the 'labels' parameter to pass all known labels.\n",
            "  warnings.warn(\n",
            "/usr/local/lib/python3.11/dist-packages/sklearn/metrics/_classification.py:407: UserWarning: A single label was found in 'y_true' and 'y_pred'. For the confusion matrix to have the correct shape, use the 'labels' parameter to pass all known labels.\n",
            "  warnings.warn(\n",
            "/usr/local/lib/python3.11/dist-packages/sklearn/metrics/_classification.py:407: UserWarning: A single label was found in 'y_true' and 'y_pred'. For the confusion matrix to have the correct shape, use the 'labels' parameter to pass all known labels.\n",
            "  warnings.warn(\n"
          ]
        }
      ],
      "source": [
        "# Entrenamiento y evaluación de 3 modelos supervisados\n",
        "\n",
        "from sklearn.model_selection import train_test_split\n",
        "from sklearn.preprocessing import LabelEncoder\n",
        "from sklearn.ensemble import RandomForestClassifier\n",
        "from sklearn.naive_bayes import GaussianNB\n",
        "from sklearn.linear_model import LogisticRegression\n",
        "from sklearn.metrics import accuracy_score, confusion_matrix\n",
        "\n",
        "# Variables predictoras y objetivo\n",
        "X = df_clean[['PM10', 'PM2.5', 'SO2', 'NO2', 'O3']]\n",
        "y = df_clean['ICA_categoria']\n",
        "\n",
        "# Codificar clases\n",
        "le = LabelEncoder()\n",
        "y_encoded = le.fit_transform(y)\n",
        "\n",
        "# División entrenamiento/prueba\n",
        "X_train, X_test, y_train, y_test = train_test_split(X, y_encoded, test_size=0.2, random_state=42)\n",
        "\n",
        "# Modelos\n",
        "modelos = {\n",
        "    \"Random Forest\": RandomForestClassifier(),\n",
        "    \"Naive Bayes\": GaussianNB(),\n",
        "    \"Regresión Logística\": LogisticRegression(max_iter=1000)\n",
        "}\n",
        "\n",
        "# Resultados\n",
        "for nombre, modelo in modelos.items():\n",
        "    modelo.fit(X_train, y_train)\n",
        "    predicciones = modelo.predict(X_test)\n",
        "    acc = accuracy_score(y_test, predicciones)\n",
        "    matriz = confusion_matrix(y_test, predicciones)\n",
        "    print(f\"Modelo: {nombre}\")\n",
        "    print(f\"Accuracy: {acc:.2f}\")\n",
        "    print(\"Matriz de Confusión:\")\n",
        "    print(matriz)\n",
        "    print(\"-\" * 30)\n"
      ]
    },
    {
      "cell_type": "markdown",
      "source": [
        "¿Qué es ICA_categoria?\n",
        "Es una nueva columna que creamos para clasificar la calidad del aire en tres categorías:\n",
        "\n",
        "Buena: cuando el valor de PM10 es menor o igual a 50\n",
        "\n",
        "Moderada: cuando está entre 51 y 100\n",
        "\n",
        "Mala: cuando es mayor a 100\n",
        "\n",
        "Esto se llama feature engineering, porque transformamos un valor numérico (PM10) en una variable categórica que nos permite predecir el estado del aire.\n",
        "\n",
        "¿Qué hicimos con los modelos?\n",
        "Usamos 3 algoritmos de clasificación llamados modelos supervisados:\n",
        "\n",
        "Random Forest\n",
        "\n",
        "Naive Bayes\n",
        "\n",
        "Regresión Logística\n",
        "\n",
        "Estos modelos sirven para predecir automáticamente si la calidad del aire es buena, moderada o mala según los niveles de contaminantes (PM10, PM2.5, SO2, NO2, O3).\n",
        "\n",
        "¿Cómo lo hicimos?\n",
        "Limpieza de datos: quitamos valores nulos, corregimos formatos de fecha, y unificamos los archivos.\n",
        "\n",
        "Análisis exploratorio: generamos gráficas de distribución y una matriz de correlación entre contaminantes.\n",
        "\n",
        "Creamos la variable ICA_categoria basada en PM10.\n",
        "\n",
        "Entrenamos 3 modelos para que aprendieran a clasificar la calidad del aire.\n",
        "\n",
        "Evaluamos los modelos con métricas como accuracy y matriz de confusión.\n",
        "\n",
        "Resultado:\n",
        "¡Los 3 modelos clasificaron correctamente todos los casos!\n",
        "\n",
        "El modelo ya puede ser usado para predecir la categoría del aire automáticamente si le damos nuevos valores de contaminantes."
      ],
      "metadata": {
        "id": "rBnDzra47Naz"
      }
    },
    {
      "cell_type": "markdown",
      "source": [
        "En este proyecto se desarrolló un modelo predictivo para clasificar la calidad del aire en categorías (Buena, Moderada o Mala) usando datos reales de contaminación.\n",
        "Se aplicaron técnicas de limpieza, análisis exploratorio, creación de variables (feature engineering) y modelado supervisado con tres algoritmos.\n",
        "Como resultado, los modelos fueron entrenados exitosamente y están listos para ser usados en una aplicación real o educativa para la predicción del estado del aire."
      ],
      "metadata": {
        "id": "fVi4EcrJ7ugj"
      }
    }
  ]
}